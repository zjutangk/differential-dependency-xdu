{
 "cells": [
  {
   "cell_type": "code",
   "execution_count": 7,
   "metadata": {},
   "outputs": [],
   "source": [
    "import pandas as pd\n",
    "\n",
    "data = pd.read_csv(\"../data/iris.csv\", index_col=0)"
   ]
  },
  {
   "cell_type": "code",
   "execution_count": 34,
   "metadata": {},
   "outputs": [
    {
     "data": {
      "text/plain": [
       "Index(['SepalLengthCm', 'SepalWidthCm', 'PetalLengthCm', 'PetalWidthCm',\n",
       "       'Species'],\n",
       "      dtype='object')"
      ]
     },
     "execution_count": 34,
     "metadata": {},
     "output_type": "execute_result"
    }
   ],
   "source": [
    "data.columns"
   ]
  },
  {
   "cell_type": "code",
   "execution_count": 48,
   "metadata": {},
   "outputs": [
    {
     "data": {
      "text/plain": [
       "132"
      ]
     },
     "execution_count": 48,
     "metadata": {},
     "output_type": "execute_result"
    }
   ],
   "source": [
    "ra = data['SepalLengthCm'].sort_values()\n",
    "ra.index[149]"
   ]
  },
  {
   "cell_type": "code",
   "execution_count": 56,
   "metadata": {},
   "outputs": [],
   "source": [
    "class SCAMDD():\n",
    "    def __init__(self, data, eps = 0.6):\n",
    "        self.r_data = list(data.columns)[:-1]\n",
    "        self.n = len(data)\n",
    "        self.data = data\n",
    "        self.eps = eps\n",
    "        self.delta = eps\n",
    "\n",
    "    def free_max(self):\n",
    "        self.delta_nclusters = []\n",
    "        # find all maximal δ-nClusters in A\n",
    "        for attr in self.r_data:\n",
    "            ra = self.data[attr].sort_values()\n",
    "            for p1 in range(self.n):\n",
    "                for p2 in range(p1 + 1, self.n):\n",
    "                    if self.dist_metric(ra.iloc[p1], ra.iloc[p2]) <= self.delta:\n",
    "                        if p1 == 0 or p2 == self.n - 1 \\\n",
    "                            or self.dist_metric(ra.iloc[p1 - 1], ra.iloc[p2]) <= self.delta \\\n",
    "                            or self.dist_metric(ra.iloc[p1], ra.iloc[p2 + 1]) <= self.delta:\n",
    "                            continue\n",
    "                        self.delta_nclusters.append((ra.index[p1], ra.index[p2]))\n",
    "                    \n",
    "\n",
    "    def dist_metric(self, x1, x2):\n",
    "        return (x1 - x2) ** 2\n",
    "\n",
    "\n",
    "    def form_cand_LHSs(self):\n",
    "        pass\n",
    "\n",
    "    def find_RHSs(self):\n",
    "        pass"
   ]
  },
  {
   "cell_type": "code",
   "execution_count": 57,
   "metadata": {},
   "outputs": [],
   "source": [
    "model = SCAMDD(data = data)"
   ]
  },
  {
   "cell_type": "code",
   "execution_count": 58,
   "metadata": {},
   "outputs": [],
   "source": [
    "model.free_max()"
   ]
  },
  {
   "cell_type": "code",
   "execution_count": 60,
   "metadata": {},
   "outputs": [
    {
     "data": {
      "text/plain": [
       "79"
      ]
     },
     "execution_count": 60,
     "metadata": {},
     "output_type": "execute_result"
    }
   ],
   "source": [
    "len(model.delta_nclusters)"
   ]
  }
 ],
 "metadata": {
  "kernelspec": {
   "display_name": "tch",
   "language": "python",
   "name": "python3"
  },
  "language_info": {
   "codemirror_mode": {
    "name": "ipython",
    "version": 3
   },
   "file_extension": ".py",
   "mimetype": "text/x-python",
   "name": "python",
   "nbconvert_exporter": "python",
   "pygments_lexer": "ipython3",
   "version": "3.9.12"
  },
  "orig_nbformat": 4,
  "vscode": {
   "interpreter": {
    "hash": "527f4ae2ca7fedfd62ef028f0896347cf98c31aac3b40e936ca7425b343f3530"
   }
  }
 },
 "nbformat": 4,
 "nbformat_minor": 2
}
